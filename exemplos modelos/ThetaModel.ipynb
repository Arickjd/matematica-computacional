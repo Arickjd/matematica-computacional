{
 "cells": [
  {
   "cell_type": "code",
   "execution_count": 45,
   "id": "1e8060e6-56a9-4e40-a31c-3e515216a7e1",
   "metadata": {},
   "outputs": [],
   "source": [
    "import pandas as pd\n",
    "import numpy as np\n",
    "import matplotlib.pyplot as plt\n",
    "import optuna\n",
    "from darts.timeseries import TimeSeries\n",
    "from darts.models import FourTheta\n",
    "from darts.metrics import mape,mae\n",
    "import pickle\n",
    "import os"
   ]
  },
  {
   "cell_type": "code",
   "execution_count": 46,
   "id": "e3de3fdf-cd8e-4716-b203-fc2eedc7b48b",
   "metadata": {},
   "outputs": [],
   "source": [
    "from darts.metrics import mape,mae,mse\n",
    "from darts.timeseries import TimeSeries\n",
    "#from darts.models import Prophet,CatBoostModel,FFT\n",
    "from darts.utils.statistics import check_seasonality, plot_acf, plot_residuals_analysis, plot_hist,extract_trend_and_seasonality\n",
    "from darts.utils.utils import SeasonalityMode\n",
    "import logging\n",
    "from darts.utils.utils import ModelMode\n",
    "from darts.utils.utils import TrendMode\n",
    "from darts.models import FourTheta, Prophet\n",
    "from darts.dataprocessing.transformers import Scaler\n",
    "from darts.dataprocessing.transformers import BoxCox"
   ]
  },
  {
   "cell_type": "code",
   "execution_count": 47,
   "id": "61be39fe-b4ed-4e74-be2a-799edc56ef71",
   "metadata": {},
   "outputs": [],
   "source": [
    "with open(\"data/srag_series.pkl\", \"rb\") as f:\n",
    "    srag_series = pickle.load(f)\n",
    "\n",
    "def train_test_splits(series, train_proportion_list):\n",
    "    '''\n",
    "    Funcao para dividir a serie temporal em treino e teste\n",
    "    \n",
    "    Parametros:\n",
    "    \n",
    "    *series: serie que sera particionada em treino e validacao.\n",
    "    *train_proportion_list: Lista que define a proporcao do conjunto\n",
    "    de treinamento. Ex: series_list = [0.8,0.5] significa primeiro conjunto \n",
    "    de treino com 80% dos dados totais e o segundo com 50% dos dados totais.\n",
    "    '''\n",
    "    partitions_dict = {'train': [], 'test': []}\n",
    "\n",
    "    for i, train_proportion in enumerate(train_proportion_list):\n",
    "        train_size = int(len(series) * train_proportion)\n",
    "        train, test = series.split_before(train_size)\n",
    "        partitions_dict['train'].append(train)\n",
    "        partitions_dict['test'].append(test)\n",
    "\n",
    "        print(f'Partition {i+1} - Train size: {len(train)}, Test size: {len(test)}, Total size: {len(train)+len(test)}')\n",
    "\n",
    "    return partitions_dict"
   ]
  },
  {
   "cell_type": "code",
   "execution_count": 48,
   "id": "d974a222-bd5a-476f-82f1-4037edba807e",
   "metadata": {},
   "outputs": [
    {
     "name": "stdout",
     "output_type": "stream",
     "text": [
      "Partition 1 - Train size: 249, Test size: 63, Total size: 312\n",
      "Partition 2 - Train size: 265, Test size: 47, Total size: 312\n"
     ]
    }
   ],
   "source": [
    "train_test_split_SRAG = train_test_splits(srag_series.univariate_component(0),[0.8,0.85])"
   ]
  },
  {
   "cell_type": "code",
   "execution_count": 77,
   "id": "7b1af0e6-a60b-4e46-b6b9-36d543e3618a",
   "metadata": {},
   "outputs": [],
   "source": [
    "train = train_test_split_SRAG['train'][1].slice(pd.Timestamp(\"2021-01-01\"), pd.Timestamp(\"2024-12-01\"))\n",
    "val = train_test_split_SRAG['test'][1]"
   ]
  },
  {
   "cell_type": "code",
   "execution_count": null,
   "id": "cfc14752-8606-4ae3-92fb-9c0b16460111",
   "metadata": {},
   "outputs": [],
   "source": [
    "figure = plt.figure(figsize=(15, 5))\n",
    "train_test_split_SRAG['train'][0].slice(pd.Timestamp(\"2022-01-01\"), pd.Timestamp(\"2024-12-01\")).plot(label = 'Conjunto de Treino')\n",
    "train_test_split_SRAG['test'][0].plot(label = 'Conjunto de Teste')\n",
    "plt.xticks(fontsize = 10)\n",
    "plt.yticks(fontsize = 15)\n",
    "plt.xlabel('Tempo', fontsize = 15)\n",
    "plt.ylabel('Casos', fontsize = 15)\n",
    "plt.legend()\n",
    "plt.show()\n",
    "\n",
    "def objective(trial):\n",
    "    global model\n",
    "\n",
    "    params = {\n",
    "        \"theta\": trial.suggest_int(\"theta\", 0, 5),\n",
    "        \"seasonality_period\": trial.suggest_int(\"seasonality_period\", 15,80),\n",
    "        \"season_mode\": trial.suggest_categorical(\"season_mode\", [\n",
    "            SeasonalityMode.ADDITIVE,\n",
    "            SeasonalityMode.MULTIPLICATIVE\n",
    "        ]),\n",
    "        \"model_mode\": trial.suggest_categorical(\"model_mode\", [\n",
    "            ModelMode.ADDITIVE,\n",
    "            ModelMode.MULTIPLICATIVE\n",
    "        ]),\n",
    "        \"trend_mode\": trial.suggest_categorical(\"trend_mode\", [\n",
    "            TrendMode.LINEAR,\n",
    "            TrendMode.EXPONENTIAL\n",
    "        ])\n",
    "    }\n",
    "\n",
    "    model = FourTheta(**params)\n",
    "    model.fit(train)\n",
    "    predictions = model.predict(len(val))\n",
    "\n",
    "    return mape(val, predictions)"
   ]
  },
  {
   "cell_type": "code",
   "execution_count": null,
   "id": "ab65234b-6d36-408f-bd65-d8aa14997753",
   "metadata": {
    "scrolled": true
   },
   "outputs": [],
   "source": [
    "def callback(study,trial):\n",
    "    global best_model\n",
    "    if study.best_trial == trial:\n",
    "        best_model = model\n",
    "\n",
    "study = optuna.create_study(direction = \"minimize\")\n",
    "study.optimize(objective, n_trials = 500, callbacks = [callback])"
   ]
  },
  {
   "cell_type": "code",
   "execution_count": null,
   "id": "5270c1d0-2a1d-4131-84cf-f5677f1b14f5",
   "metadata": {},
   "outputs": [],
   "source": []
  },
  {
   "cell_type": "code",
   "execution_count": null,
   "id": "53e02015-0b89-4c8a-985e-da0807c08604",
   "metadata": {},
   "outputs": [],
   "source": []
  },
  {
   "cell_type": "code",
   "execution_count": 1,
   "id": "182f0fa5-2795-42da-977f-5ccad870fb30",
   "metadata": {},
   "outputs": [
    {
     "ename": "NameError",
     "evalue": "name 'best_model' is not defined",
     "output_type": "error",
     "traceback": [
      "\u001b[31m---------------------------------------------------------------------------\u001b[39m",
      "\u001b[31mNameError\u001b[39m                                 Traceback (most recent call last)",
      "\u001b[36mCell\u001b[39m\u001b[36m \u001b[39m\u001b[32mIn[1]\u001b[39m\u001b[32m, line 1\u001b[39m\n\u001b[32m----> \u001b[39m\u001b[32m1\u001b[39m preds = \u001b[43mbest_model\u001b[49m.predict(n=\u001b[38;5;28mlen\u001b[39m(val)+\u001b[32m50\u001b[39m)\n\u001b[32m      2\u001b[39m mape_pred = mape(val,preds)\n\u001b[32m      3\u001b[39m fig = plt.figure(figsize=(\u001b[32m15\u001b[39m,\u001b[32m5\u001b[39m))\n",
      "\u001b[31mNameError\u001b[39m: name 'best_model' is not defined"
     ]
    }
   ],
   "source": [
    "preds = best_model.predict(n=len(val)+50)\n",
    "mape_pred = mape(val,preds)\n",
    "fig = plt.figure(figsize=(15,5))\n",
    "srag_series.univariate_component(0).slice(pd.Timestamp(\"2020-01-01\"), pd.Timestamp(\"2025-12-01\")).plot(label='Série original')\n",
    "train_test_split_SRAG['train'][1].slice(pd.Timestamp(\"2022-01-01\"), pd.Timestamp(\"2025-12-01\")).plot(label='Série original')\n",
    "preds.plot(label='Previsão')\n",
    "plt.plot([],[],' ',label=f'MAPE: {round(mape_pred,2)}')\n",
    "plt.legend()\n",
    "plt.show()"
   ]
  },
  {
   "cell_type": "code",
   "execution_count": null,
   "id": "ac3e4ec0-c83c-4ead-a817-7e05d13db3c4",
   "metadata": {},
   "outputs": [],
   "source": []
  },
  {
   "cell_type": "code",
   "execution_count": null,
   "id": "5b09426f-f83d-4837-9e84-2e751e52cd2a",
   "metadata": {},
   "outputs": [],
   "source": []
  }
 ],
 "metadata": {
  "kernelspec": {
   "display_name": "Python 3 (ipykernel)",
   "language": "python",
   "name": "python3"
  },
  "language_info": {
   "codemirror_mode": {
    "name": "ipython",
    "version": 3
   },
   "file_extension": ".py",
   "mimetype": "text/x-python",
   "name": "python",
   "nbconvert_exporter": "python",
   "pygments_lexer": "ipython3",
   "version": "3.12.3"
  }
 },
 "nbformat": 4,
 "nbformat_minor": 5
}
